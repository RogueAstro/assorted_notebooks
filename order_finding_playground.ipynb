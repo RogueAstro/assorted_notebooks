{
 "cells": [
  {
   "cell_type": "markdown",
   "metadata": {},
   "source": [
    "Finding the orders in raw spectroscopic images is not trivial, especially if the cross-section profiles are funky and/or there are many fibers in a single order. This notebook is a playground for testing how much we can push `numpy` and `scipy` codes in finding the centers and FWHM's of one or more orders in a row of a raw spectral image."
   ]
  },
  {
   "cell_type": "code",
   "execution_count": 1,
   "metadata": {
    "collapsed": true
   },
   "outputs": [],
   "source": [
    "import numpy as np\n",
    "import scipy.signal as ss\n",
    "import matplotlib.pyplot as plt\n",
    "from scipy.ndimage import convolve1d\n",
    "import ccdproc as cp\n",
    "\n",
    "%matplotlib notebook"
   ]
  },
  {
   "cell_type": "markdown",
   "metadata": {},
   "source": [
    "My spectra have flat-topped cross-section profiles, so I will define a box function."
   ]
  },
  {
   "cell_type": "code",
   "execution_count": null,
   "metadata": {
    "collapsed": true
   },
   "outputs": [],
   "source": [
    "# Box function\n",
    "def box(x, l, h):\n",
    "    # x is the independent variable\n",
    "    # l is the lower limit of the box\n",
    "    # h is the upper limit of the box\n",
    "    if l < x < h:\n",
    "        return 1.0 + np.random.normal(loc=0., scale=0.001)\n",
    "    else:\n",
    "        return 0.0 + np.random.normal(loc=0., scale=0.001)\n",
    "    \n",
    "# Guassian function\n",
    "def gauss(x, mu, sigma):\n",
    "    return 1./sigma/np.sqrt(2*np.pi)*np.exp(-0.5*((x-mu)/sigma)**2)"
   ]
  },
  {
   "cell_type": "markdown",
   "metadata": {},
   "source": [
    "Now we need to define our box limits. My spectra have constant distance between each of the 5 fibers, but the distance between orders is variable. Let's plot 3 simulated orders in a row cut of our spectrum."
   ]
  },
  {
   "cell_type": "code",
   "execution_count": null,
   "metadata": {
    "collapsed": true
   },
   "outputs": [],
   "source": [
    "fw = 3 # Fiber width\n",
    "do = 5 # Distance between fibers\n",
    "offset = [7, 70, 150] # Offset from zero for orders 1, 2 and 3\n",
    "F = 5 # Number of fibers\n",
    "\n",
    "# Order 1\n",
    "ll_o1 = np.array([offset[0]+(fw+do)*xk for xk in range(F)]) # Lower limits\n",
    "ul_o1 = np.array([offset[0]+fw+(fw+do)*xk for xk in range(F)]) # Upper limits\n",
    "\n",
    "# Order 2\n",
    "ll_o2 = np.array([offset[1]+(fw+do)*xk for xk in range(F)]) # Lower limits\n",
    "ul_o2 = np.array([offset[1]+fw+(fw+do)*xk for xk in range(F)]) # Upper limits\n",
    "\n",
    "# Order 3\n",
    "ll_o3 = np.array([offset[2]+(fw+do)*xk for xk in range(F)]) # Lower limits\n",
    "ul_o3 = np.array([offset[2]+fw+(fw+do)*xk for xk in range(F)]) # Upper limits"
   ]
  },
  {
   "cell_type": "code",
   "execution_count": null,
   "metadata": {
    "collapsed": false
   },
   "outputs": [],
   "source": [
    "N = 10000\n",
    "xs = np.linspace(0,200,N)\n",
    "ys = np.zeros(N, float)\n",
    "\n",
    "# Order 1\n",
    "for k in range(F):\n",
    "    yk = np.zeros(N, float)\n",
    "    for i in range(N):\n",
    "        yk[i] = box(xs[i], ll_o1[k], ul_o1[k])\n",
    "    ys += yk\n",
    "\n",
    "# Order 2\n",
    "for k in range(F):\n",
    "    yk = np.zeros(N, float)\n",
    "    for i in range(N):\n",
    "        yk[i] = box(xs[i], ll_o2[k], ul_o2[k])\n",
    "    ys += yk\n",
    "\n",
    "# Order 3\n",
    "for k in range(F):\n",
    "    yk = np.zeros(N, float)\n",
    "    for i in range(N):\n",
    "        yk[i] = box(xs[i], ll_o3[k], ul_o3[k])\n",
    "    ys += yk\n",
    "ys = np.array(ys)\n",
    "\n",
    "# Now we convolve the profiles with a Gaussian:\n",
    "gau = np.array([gauss(xk, 100., 0.3) for xk in xs])\n",
    "ys = convolve1d(ys, gau)\n",
    "\n",
    "plt.plot(xs,ys)\n",
    "#plt.ylim(-0.2, 1.2)\n",
    "plt.xlim(0, 200)\n",
    "plt.show()"
   ]
  },
  {
   "cell_type": "markdown",
   "metadata": {},
   "source": [
    "Now, let's test how a peak finding routine behaves when we try to identify the peaks corresponding to the 5 fibers of our 3 orders in our row cut."
   ]
  },
  {
   "cell_type": "code",
   "execution_count": null,
   "metadata": {
    "collapsed": false
   },
   "outputs": [],
   "source": [
    "peakind = ss.find_peaks_cwt(ys, widths=np.arange(fw*3,fw*100), min_snr=10)\n",
    "\n",
    "plt.plot(xs,ys)\n",
    "for pk in peakind:\n",
    "    plt.plot(xs[pk], ys[pk], '*', color='r')\n",
    "#plt.ylim(-0.2, 1.2)\n",
    "plt.xlim(0, 200)\n",
    "plt.show()"
   ]
  }
 ],
 "metadata": {
  "anaconda-cloud": {},
  "kernelspec": {
   "display_name": "Python [Root]",
   "language": "python",
   "name": "Python [Root]"
  },
  "language_info": {
   "codemirror_mode": {
    "name": "ipython",
    "version": 3
   },
   "file_extension": ".py",
   "mimetype": "text/x-python",
   "name": "python",
   "nbconvert_exporter": "python",
   "pygments_lexer": "ipython3",
   "version": "3.5.1"
  }
 },
 "nbformat": 4,
 "nbformat_minor": 0
}
